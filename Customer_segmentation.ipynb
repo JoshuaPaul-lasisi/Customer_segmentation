{
  "cells": [
    {
      "cell_type": "markdown",
      "metadata": {
        "colab_type": "text",
        "id": "view-in-github"
      },
      "source": [
        "<a href=\"https://colab.research.google.com/github/JoshuaPaul-lasisi/Customer_segmentation/blob/main/Customer_segmentation.ipynb\" target=\"_parent\"><img src=\"https://colab.research.google.com/assets/colab-badge.svg\" alt=\"Open In Colab\"/></a>"
      ]
    },
    {
      "cell_type": "markdown",
      "metadata": {},
      "source": [
        "# Project Overview: Customer Segmentation"
      ]
    },
    {
      "cell_type": "markdown",
      "metadata": {},
      "source": [
        "**Introduction:**\n",
        "\n",
        "This project aims to leverage customer data to identify meaningful segments within our customer base. By analyzing various aspects of the data, we will uncover patterns, trends, and relationships that can inform targeted marketing strategies and improve customer engagement.\n",
        "\n",
        "**Project Background:**\n",
        "\n",
        "The data used in this analysis comes from [brief description of dataset source and contents]. This dataset includes [list key features and variables relevant to customer segmentation].\n",
        "\n",
        "**Objective:**\n",
        "\n",
        "The primary objective of this project is to gain a deeper understanding of our customer base and identify distinct groups based on shared characteristics and behaviors. This will allow us to:\n",
        "\n",
        "* **Develop targeted marketing campaigns:** Tailor messaging and offerings to specific customer segments for increased effectiveness.\n",
        "* **Improve customer retention:** Identify at-risk segments and implement strategies to foster loyalty and prevent churn.\n",
        "* **Optimize resource allocation:** Focus efforts on the most valuable customer segments to maximize return on investment.\n",
        "\n",
        "**Methodology:**\n",
        "\n",
        "This project will utilize a data-driven approach to customer segmentation. We will employ various exploratory data analysis techniques, including:\n",
        "\n",
        "* **Univariate analysis:** Examining the distribution and characteristics of individual variables.\n",
        "* **Bivariate analysis:** Exploring relationships between pairs of variables.\n",
        "* **Categorical variable analysis:** Understanding the impact of categorical variables on customer behavior.\n",
        "* **Time series analysis:** Analyzing customer behavior over time, including purchase patterns and trends.\n",
        "* **Outlier detection:** Identifying and handling potential data anomalies.\n",
        "\n",
        "**Expected Output:**\n",
        "\n",
        "By the end of this project, we aim to achieve the following:\n",
        "\n",
        "* **Identify distinct customer segments:** Define clear and actionable segments based on shared characteristics and behaviors.\n",
        "* **Develop segment profiles:** Create detailed descriptions of each segment, including key attributes, purchase patterns, and potential needs.\n",
        "* **Formulate targeted marketing strategies:** Recommend specific marketing approaches and messaging tailored to each segment.\n",
        "\n",
        "**Next Steps:**\n",
        "\n",
        "Following this exploratory analysis, we will proceed with the following:\n",
        "\n",
        "* **Segmentation model development:** Implement and evaluate various segmentation models to identify the most effective approach.\n",
        "* **Model validation and refinement:** Assess the performance of the chosen model and refine it as needed.\n",
        "* **Actionable insights and recommendations:** Translate the segmentation findings into actionable strategies for marketing, customer engagement, and product development.\n",
        "\n",
        "This project will provide valuable insights into our customer base and empower us to make data-driven decisions that improve customer relationships and drive business growth.\n",
        "\n",
        "**Additional Considerations:**\n",
        "\n",
        "* **Customer Lifetime Value (CLTV):** Consider incorporating CLTV analysis to understand the long-term value of each customer segment.\n",
        "* **RFM Analysis:** RFM (Recency, Frequency, Monetary) analysis can provide valuable insights into customer engagement and purchase behavior.\n",
        "* **Customer Journey Mapping:** Understanding the customer journey across different touchpoints can inform targeted marketing strategies.\n",
        "* **Ethical Considerations:** Ensure data privacy and ethical considerations are addressed throughout the project.\n"
      ]
    },
    {
      "cell_type": "markdown",
      "metadata": {},
      "source": [
        "Necessary imports"
      ]
    },
    {
      "cell_type": "code",
      "execution_count": 1,
      "metadata": {},
      "outputs": [],
      "source": [
        "import pandas as pd\n",
        "import numpy as np\n",
        "import matplotlib.pyplot as plt\n",
        "import seaborn as sns\n"
      ]
    },
    {
      "cell_type": "markdown",
      "metadata": {},
      "source": [
        "...and the dataframe to be used\n"
      ]
    },
    {
      "cell_type": "code",
      "execution_count": 2,
      "metadata": {},
      "outputs": [
        {
          "data": {
            "text/html": [
              "<div>\n",
              "<style scoped>\n",
              "    .dataframe tbody tr th:only-of-type {\n",
              "        vertical-align: middle;\n",
              "    }\n",
              "\n",
              "    .dataframe tbody tr th {\n",
              "        vertical-align: top;\n",
              "    }\n",
              "\n",
              "    .dataframe thead th {\n",
              "        text-align: right;\n",
              "    }\n",
              "</style>\n",
              "<table border=\"1\" class=\"dataframe\">\n",
              "  <thead>\n",
              "    <tr style=\"text-align: right;\">\n",
              "      <th></th>\n",
              "      <th>InvoiceNo</th>\n",
              "      <th>StockCode</th>\n",
              "      <th>Description</th>\n",
              "      <th>Quantity</th>\n",
              "      <th>InvoiceDate</th>\n",
              "      <th>UnitPrice</th>\n",
              "      <th>CustomerID</th>\n",
              "      <th>Country</th>\n",
              "    </tr>\n",
              "  </thead>\n",
              "  <tbody>\n",
              "    <tr>\n",
              "      <th>0</th>\n",
              "      <td>536365</td>\n",
              "      <td>85123A</td>\n",
              "      <td>WHITE HANGING HEART T-LIGHT HOLDER</td>\n",
              "      <td>6</td>\n",
              "      <td>12/1/2010 8:26</td>\n",
              "      <td>2.55</td>\n",
              "      <td>17850.0</td>\n",
              "      <td>United Kingdom</td>\n",
              "    </tr>\n",
              "    <tr>\n",
              "      <th>1</th>\n",
              "      <td>536365</td>\n",
              "      <td>71053</td>\n",
              "      <td>WHITE METAL LANTERN</td>\n",
              "      <td>6</td>\n",
              "      <td>12/1/2010 8:26</td>\n",
              "      <td>3.39</td>\n",
              "      <td>17850.0</td>\n",
              "      <td>United Kingdom</td>\n",
              "    </tr>\n",
              "    <tr>\n",
              "      <th>2</th>\n",
              "      <td>536365</td>\n",
              "      <td>84406B</td>\n",
              "      <td>CREAM CUPID HEARTS COAT HANGER</td>\n",
              "      <td>8</td>\n",
              "      <td>12/1/2010 8:26</td>\n",
              "      <td>2.75</td>\n",
              "      <td>17850.0</td>\n",
              "      <td>United Kingdom</td>\n",
              "    </tr>\n",
              "    <tr>\n",
              "      <th>3</th>\n",
              "      <td>536365</td>\n",
              "      <td>84029G</td>\n",
              "      <td>KNITTED UNION FLAG HOT WATER BOTTLE</td>\n",
              "      <td>6</td>\n",
              "      <td>12/1/2010 8:26</td>\n",
              "      <td>3.39</td>\n",
              "      <td>17850.0</td>\n",
              "      <td>United Kingdom</td>\n",
              "    </tr>\n",
              "    <tr>\n",
              "      <th>4</th>\n",
              "      <td>536365</td>\n",
              "      <td>84029E</td>\n",
              "      <td>RED WOOLLY HOTTIE WHITE HEART.</td>\n",
              "      <td>6</td>\n",
              "      <td>12/1/2010 8:26</td>\n",
              "      <td>3.39</td>\n",
              "      <td>17850.0</td>\n",
              "      <td>United Kingdom</td>\n",
              "    </tr>\n",
              "  </tbody>\n",
              "</table>\n",
              "</div>"
            ],
            "text/plain": [
              "  InvoiceNo StockCode                          Description  Quantity  \\\n",
              "0    536365    85123A   WHITE HANGING HEART T-LIGHT HOLDER         6   \n",
              "1    536365     71053                  WHITE METAL LANTERN         6   \n",
              "2    536365    84406B       CREAM CUPID HEARTS COAT HANGER         8   \n",
              "3    536365    84029G  KNITTED UNION FLAG HOT WATER BOTTLE         6   \n",
              "4    536365    84029E       RED WOOLLY HOTTIE WHITE HEART.         6   \n",
              "\n",
              "      InvoiceDate  UnitPrice  CustomerID         Country  \n",
              "0  12/1/2010 8:26       2.55     17850.0  United Kingdom  \n",
              "1  12/1/2010 8:26       3.39     17850.0  United Kingdom  \n",
              "2  12/1/2010 8:26       2.75     17850.0  United Kingdom  \n",
              "3  12/1/2010 8:26       3.39     17850.0  United Kingdom  \n",
              "4  12/1/2010 8:26       3.39     17850.0  United Kingdom  "
            ]
          },
          "execution_count": 2,
          "metadata": {},
          "output_type": "execute_result"
        }
      ],
      "source": [
        "# Second Dataframe used in the kaggle we went through in our meeting\n",
        "df = pd.read_csv('https://raw.githubusercontent.com/sheidheda/SusAc-ML-Files/main/cs_data2.csv', encoding=\"ISO-8859-1\")\n",
        "df.head()"
      ]
    },
    {
      "cell_type": "markdown",
      "metadata": {},
      "source": [
        "# Data Loading & Cleaning"
      ]
    },
    {
      "cell_type": "markdown",
      "metadata": {},
      "source": [
        "This section of the notebook focuses on preparing the dataset for analysis by loading it into the environment and performing initial data cleaning steps. These steps are crucial to ensure that the data is in a usable format and free from any inconsistencies that could affect the analysis results. This section will address any missing values, outliers, and duplicates in the dataset, ensuring that the data is clean and ready for further analysis."
      ]
    },
    {
      "cell_type": "markdown",
      "metadata": {},
      "source": [
        "______________________________________\n",
        "### Peeking under the hood of the data\n",
        "\n"
      ]
    },
    {
      "cell_type": "markdown",
      "metadata": {},
      "source": [
        "We get a quick glance of the data. Why?\n",
        "\n",
        "To check:\n",
        "- How big the data is\n",
        "- the kind of data in each column\n",
        "- to check for possible missing values\n",
        "- to check how much space our data takes"
      ]
    },
    {
      "cell_type": "code",
      "execution_count": 3,
      "metadata": {},
      "outputs": [
        {
          "name": "stdout",
          "output_type": "stream",
          "text": [
            "<class 'pandas.core.frame.DataFrame'>\n",
            "RangeIndex: 541909 entries, 0 to 541908\n",
            "Data columns (total 8 columns):\n",
            " #   Column       Non-Null Count   Dtype  \n",
            "---  ------       --------------   -----  \n",
            " 0   InvoiceNo    541909 non-null  object \n",
            " 1   StockCode    541909 non-null  object \n",
            " 2   Description  540455 non-null  object \n",
            " 3   Quantity     541909 non-null  int64  \n",
            " 4   InvoiceDate  541909 non-null  object \n",
            " 5   UnitPrice    541909 non-null  float64\n",
            " 6   CustomerID   406829 non-null  float64\n",
            " 7   Country      541909 non-null  object \n",
            "dtypes: float64(2), int64(1), object(5)\n",
            "memory usage: 33.1+ MB\n"
          ]
        }
      ],
      "source": [
        "#checking the info for df\n",
        "df.info()"
      ]
    },
    {
      "cell_type": "markdown",
      "metadata": {},
      "source": [
        "We now have answers to our questions:\n",
        "- **Data size** -> 541,909 entries\n",
        "- **Kind of data** -> the dataset contains a mix of data types\n",
        "- **Possible missing values** -> Description and CustomerID have non-null counts less than the total number of entries. This indicates that there might be missing values in these columns\n",
        "- **Space data takes** -> Memory usage is approximately 33.1+ MB\n"
      ]
    },
    {
      "cell_type": "markdown",
      "metadata": {},
      "source": [
        "A more concise depiction of our dataset inspecting the dimensions of our dataset shows our dataset is **large** with 541,909 columns and 8 columns as seen below\n"
      ]
    },
    {
      "cell_type": "code",
      "execution_count": 4,
      "metadata": {},
      "outputs": [
        {
          "data": {
            "text/plain": [
              "(541909, 8)"
            ]
          },
          "execution_count": 4,
          "metadata": {},
          "output_type": "execute_result"
        }
      ],
      "source": [
        "df.shape"
      ]
    },
    {
      "cell_type": "markdown",
      "metadata": {},
      "source": [
        "The **CustomerID** column should not be a float but a string since it is an identifier that could have leading zeros especially for older customers.\n",
        "\n",
        "We will therefore convert it to string and remove the decimal point"
      ]
    },
    {
      "cell_type": "code",
      "execution_count": 5,
      "metadata": {},
      "outputs": [],
      "source": [
        "df['CustomerID'] = df['CustomerID'].astype(str).str[:-2]"
      ]
    },
    {
      "cell_type": "markdown",
      "metadata": {},
      "source": [
        "The **Quantity** ordered should not be less than zero for it to get into an invoice. But just in case, we will check it..."
      ]
    },
    {
      "cell_type": "code",
      "execution_count": 6,
      "metadata": {},
      "outputs": [
        {
          "name": "stdout",
          "output_type": "stream",
          "text": [
            "there is presence of Negative values\n"
          ]
        }
      ],
      "source": [
        "# to check whether quantity column has negative values\n",
        "if (df['Quantity'].unique() <0).any():\n",
        "\n",
        "  print(\"there is presence of Negative values\")"
      ]
    },
    {
      "cell_type": "markdown",
      "metadata": {},
      "source": [
        "This shows that we have **refunds** in our dataset. We will consider this is in our **segmentation**."
      ]
    },
    {
      "cell_type": "markdown",
      "metadata": {},
      "source": [
        "## Sorting out duplicates"
      ]
    },
    {
      "cell_type": "markdown",
      "metadata": {},
      "source": [
        "The next step is to consider if we have any duplicates in the data.\n",
        "\n",
        "For large data like this, we will employ the **.duplicate()** function which shows columns with repeated values for all columns."
      ]
    },
    {
      "cell_type": "code",
      "execution_count": 7,
      "metadata": {},
      "outputs": [
        {
          "name": "stdout",
          "output_type": "stream",
          "text": [
            "The DataFrame df has 5268 duplicate rows.\n"
          ]
        }
      ],
      "source": [
        "# Identify rows with duplicate values across all columns in df2\n",
        "duplicates = df[df.duplicated()]\n",
        "\n",
        "# Count the number of duplicate rows\n",
        "number_of_duplicates = len(duplicates)\n",
        "\n",
        "# Print a message to inform the user about the results\n",
        "print(f\"The DataFrame df has {number_of_duplicates} duplicate rows.\")"
      ]
    },
    {
      "cell_type": "markdown",
      "metadata": {},
      "source": [
        "...to view them"
      ]
    },
    {
      "cell_type": "code",
      "execution_count": 8,
      "metadata": {},
      "outputs": [
        {
          "data": {
            "text/html": [
              "<div>\n",
              "<style scoped>\n",
              "    .dataframe tbody tr th:only-of-type {\n",
              "        vertical-align: middle;\n",
              "    }\n",
              "\n",
              "    .dataframe tbody tr th {\n",
              "        vertical-align: top;\n",
              "    }\n",
              "\n",
              "    .dataframe thead th {\n",
              "        text-align: right;\n",
              "    }\n",
              "</style>\n",
              "<table border=\"1\" class=\"dataframe\">\n",
              "  <thead>\n",
              "    <tr style=\"text-align: right;\">\n",
              "      <th></th>\n",
              "      <th>InvoiceNo</th>\n",
              "      <th>StockCode</th>\n",
              "      <th>Description</th>\n",
              "      <th>Quantity</th>\n",
              "      <th>InvoiceDate</th>\n",
              "      <th>UnitPrice</th>\n",
              "      <th>CustomerID</th>\n",
              "      <th>Country</th>\n",
              "    </tr>\n",
              "  </thead>\n",
              "  <tbody>\n",
              "    <tr>\n",
              "      <th>517</th>\n",
              "      <td>536409</td>\n",
              "      <td>21866</td>\n",
              "      <td>UNION JACK FLAG LUGGAGE TAG</td>\n",
              "      <td>1</td>\n",
              "      <td>12/1/2010 11:45</td>\n",
              "      <td>1.25</td>\n",
              "      <td>17908</td>\n",
              "      <td>United Kingdom</td>\n",
              "    </tr>\n",
              "    <tr>\n",
              "      <th>527</th>\n",
              "      <td>536409</td>\n",
              "      <td>22866</td>\n",
              "      <td>HAND WARMER SCOTTY DOG DESIGN</td>\n",
              "      <td>1</td>\n",
              "      <td>12/1/2010 11:45</td>\n",
              "      <td>2.10</td>\n",
              "      <td>17908</td>\n",
              "      <td>United Kingdom</td>\n",
              "    </tr>\n",
              "    <tr>\n",
              "      <th>537</th>\n",
              "      <td>536409</td>\n",
              "      <td>22900</td>\n",
              "      <td>SET 2 TEA TOWELS I LOVE LONDON</td>\n",
              "      <td>1</td>\n",
              "      <td>12/1/2010 11:45</td>\n",
              "      <td>2.95</td>\n",
              "      <td>17908</td>\n",
              "      <td>United Kingdom</td>\n",
              "    </tr>\n",
              "    <tr>\n",
              "      <th>539</th>\n",
              "      <td>536409</td>\n",
              "      <td>22111</td>\n",
              "      <td>SCOTTIE DOG HOT WATER BOTTLE</td>\n",
              "      <td>1</td>\n",
              "      <td>12/1/2010 11:45</td>\n",
              "      <td>4.95</td>\n",
              "      <td>17908</td>\n",
              "      <td>United Kingdom</td>\n",
              "    </tr>\n",
              "    <tr>\n",
              "      <th>555</th>\n",
              "      <td>536412</td>\n",
              "      <td>22327</td>\n",
              "      <td>ROUND SNACK BOXES SET OF 4 SKULLS</td>\n",
              "      <td>1</td>\n",
              "      <td>12/1/2010 11:49</td>\n",
              "      <td>2.95</td>\n",
              "      <td>17920</td>\n",
              "      <td>United Kingdom</td>\n",
              "    </tr>\n",
              "    <tr>\n",
              "      <th>...</th>\n",
              "      <td>...</td>\n",
              "      <td>...</td>\n",
              "      <td>...</td>\n",
              "      <td>...</td>\n",
              "      <td>...</td>\n",
              "      <td>...</td>\n",
              "      <td>...</td>\n",
              "      <td>...</td>\n",
              "    </tr>\n",
              "    <tr>\n",
              "      <th>541675</th>\n",
              "      <td>581538</td>\n",
              "      <td>22068</td>\n",
              "      <td>BLACK PIRATE TREASURE CHEST</td>\n",
              "      <td>1</td>\n",
              "      <td>12/9/2011 11:34</td>\n",
              "      <td>0.39</td>\n",
              "      <td>14446</td>\n",
              "      <td>United Kingdom</td>\n",
              "    </tr>\n",
              "    <tr>\n",
              "      <th>541689</th>\n",
              "      <td>581538</td>\n",
              "      <td>23318</td>\n",
              "      <td>BOX OF 6 MINI VINTAGE CRACKERS</td>\n",
              "      <td>1</td>\n",
              "      <td>12/9/2011 11:34</td>\n",
              "      <td>2.49</td>\n",
              "      <td>14446</td>\n",
              "      <td>United Kingdom</td>\n",
              "    </tr>\n",
              "    <tr>\n",
              "      <th>541692</th>\n",
              "      <td>581538</td>\n",
              "      <td>22992</td>\n",
              "      <td>REVOLVER WOODEN RULER</td>\n",
              "      <td>1</td>\n",
              "      <td>12/9/2011 11:34</td>\n",
              "      <td>1.95</td>\n",
              "      <td>14446</td>\n",
              "      <td>United Kingdom</td>\n",
              "    </tr>\n",
              "    <tr>\n",
              "      <th>541699</th>\n",
              "      <td>581538</td>\n",
              "      <td>22694</td>\n",
              "      <td>WICKER STAR</td>\n",
              "      <td>1</td>\n",
              "      <td>12/9/2011 11:34</td>\n",
              "      <td>2.10</td>\n",
              "      <td>14446</td>\n",
              "      <td>United Kingdom</td>\n",
              "    </tr>\n",
              "    <tr>\n",
              "      <th>541701</th>\n",
              "      <td>581538</td>\n",
              "      <td>23343</td>\n",
              "      <td>JUMBO BAG VINTAGE CHRISTMAS</td>\n",
              "      <td>1</td>\n",
              "      <td>12/9/2011 11:34</td>\n",
              "      <td>2.08</td>\n",
              "      <td>14446</td>\n",
              "      <td>United Kingdom</td>\n",
              "    </tr>\n",
              "  </tbody>\n",
              "</table>\n",
              "<p>5268 rows × 8 columns</p>\n",
              "</div>"
            ],
            "text/plain": [
              "       InvoiceNo StockCode                        Description  Quantity  \\\n",
              "517       536409     21866        UNION JACK FLAG LUGGAGE TAG         1   \n",
              "527       536409     22866      HAND WARMER SCOTTY DOG DESIGN         1   \n",
              "537       536409     22900    SET 2 TEA TOWELS I LOVE LONDON          1   \n",
              "539       536409     22111       SCOTTIE DOG HOT WATER BOTTLE         1   \n",
              "555       536412     22327  ROUND SNACK BOXES SET OF 4 SKULLS         1   \n",
              "...          ...       ...                                ...       ...   \n",
              "541675    581538     22068        BLACK PIRATE TREASURE CHEST         1   \n",
              "541689    581538     23318     BOX OF 6 MINI VINTAGE CRACKERS         1   \n",
              "541692    581538     22992             REVOLVER WOODEN RULER          1   \n",
              "541699    581538     22694                       WICKER STAR          1   \n",
              "541701    581538     23343       JUMBO BAG VINTAGE CHRISTMAS          1   \n",
              "\n",
              "            InvoiceDate  UnitPrice CustomerID         Country  \n",
              "517     12/1/2010 11:45       1.25      17908  United Kingdom  \n",
              "527     12/1/2010 11:45       2.10      17908  United Kingdom  \n",
              "537     12/1/2010 11:45       2.95      17908  United Kingdom  \n",
              "539     12/1/2010 11:45       4.95      17908  United Kingdom  \n",
              "555     12/1/2010 11:49       2.95      17920  United Kingdom  \n",
              "...                 ...        ...        ...             ...  \n",
              "541675  12/9/2011 11:34       0.39      14446  United Kingdom  \n",
              "541689  12/9/2011 11:34       2.49      14446  United Kingdom  \n",
              "541692  12/9/2011 11:34       1.95      14446  United Kingdom  \n",
              "541699  12/9/2011 11:34       2.10      14446  United Kingdom  \n",
              "541701  12/9/2011 11:34       2.08      14446  United Kingdom  \n",
              "\n",
              "[5268 rows x 8 columns]"
            ]
          },
          "execution_count": 8,
          "metadata": {},
          "output_type": "execute_result"
        }
      ],
      "source": [
        "duplicates"
      ]
    },
    {
      "cell_type": "markdown",
      "metadata": {},
      "source": [
        "Considering that they are redundancies, we will remove them **completely** from the dataframe."
      ]
    },
    {
      "cell_type": "code",
      "execution_count": 9,
      "metadata": {},
      "outputs": [],
      "source": [
        "# Drop the duplicates\n",
        "df.drop_duplicates(inplace = True)"
      ]
    },
    {
      "cell_type": "markdown",
      "metadata": {},
      "source": [
        "Our next course of action is to confirm if we have any missing values in our dataset.\n",
        "\n",
        "To specify which columns have missing values..."
      ]
    },
    {
      "cell_type": "markdown",
      "metadata": {},
      "source": [
        "##  Correcting missing values"
      ]
    },
    {
      "cell_type": "code",
      "execution_count": 10,
      "metadata": {},
      "outputs": [
        {
          "name": "stdout",
          "output_type": "stream",
          "text": [
            "Column 'Description' has 1454 missing values (0.27%)\n"
          ]
        }
      ],
      "source": [
        "# Check for missing values in df2\n",
        "missing_values = df.isnull().sum()\n",
        "\n",
        "# Calculate missing value percentages as a ratio (avoiding data type issues)\n",
        "missing_percentages = (missing_values / len(df)) * 100\n",
        "\n",
        "# Print a summary of missing values for each column\n",
        "for col in df.columns:\n",
        "  # Check if there are any missing values (avoiding unnecessary comparisons)\n",
        "  if missing_values[col] > 0:\n",
        "    print(f\"Column '{col}' has {missing_values[col]} missing values ({missing_percentages[col]:.2f}%)\")"
      ]
    },
    {
      "cell_type": "markdown",
      "metadata": {},
      "source": [
        "We find that the **Description** and **CustomerID** columns have 1454 and 135037 missing values respectively.\n",
        "\n",
        "Since CustomerID identifies the customer and Description identifies the product, let's see if there are cases where both product and customer are not identified"
      ]
    },
    {
      "cell_type": "code",
      "execution_count": 11,
      "metadata": {},
      "outputs": [
        {
          "data": {
            "text/html": [
              "<div>\n",
              "<style scoped>\n",
              "    .dataframe tbody tr th:only-of-type {\n",
              "        vertical-align: middle;\n",
              "    }\n",
              "\n",
              "    .dataframe tbody tr th {\n",
              "        vertical-align: top;\n",
              "    }\n",
              "\n",
              "    .dataframe thead th {\n",
              "        text-align: right;\n",
              "    }\n",
              "</style>\n",
              "<table border=\"1\" class=\"dataframe\">\n",
              "  <thead>\n",
              "    <tr style=\"text-align: right;\">\n",
              "      <th></th>\n",
              "      <th>InvoiceNo</th>\n",
              "      <th>StockCode</th>\n",
              "      <th>Description</th>\n",
              "      <th>Quantity</th>\n",
              "      <th>InvoiceDate</th>\n",
              "      <th>UnitPrice</th>\n",
              "      <th>CustomerID</th>\n",
              "      <th>Country</th>\n",
              "    </tr>\n",
              "  </thead>\n",
              "  <tbody>\n",
              "  </tbody>\n",
              "</table>\n",
              "</div>"
            ],
            "text/plain": [
              "Empty DataFrame\n",
              "Columns: [InvoiceNo, StockCode, Description, Quantity, InvoiceDate, UnitPrice, CustomerID, Country]\n",
              "Index: []"
            ]
          },
          "execution_count": 11,
          "metadata": {},
          "output_type": "execute_result"
        }
      ],
      "source": [
        "# columns with both description and CustomerID as null\n",
        "no_id_desc = df[(df['Description'].isnull()) & (df['CustomerID'].isnull())]\n",
        "no_id_desc"
      ]
    },
    {
      "cell_type": "markdown",
      "metadata": {},
      "source": [
        "We are **positive** that there are such columns and we also notice that they are the **exact same amount** as the amount of missing values in the Description column.\n",
        "\n",
        "We can conclude that this is a subset of the rows with missing customer identifiers.\n",
        "\n",
        "Another **observation** is that some of our unit prices are **zero**. Let's check how many..."
      ]
    },
    {
      "cell_type": "code",
      "execution_count": 12,
      "metadata": {},
      "outputs": [
        {
          "data": {
            "text/plain": [
              "array([], dtype=float64)"
            ]
          },
          "execution_count": 12,
          "metadata": {},
          "output_type": "execute_result"
        }
      ],
      "source": [
        "no_id_desc['UnitPrice'].unique()"
      ]
    },
    {
      "cell_type": "markdown",
      "metadata": {},
      "source": [
        "**All of them!!!!**\n",
        "Since there is not unit price, it means there is no sale.\n",
        "\n",
        "When there is no sale, there is no customer.\n",
        "\n",
        "This part of the data therefore adds no value to our **customer segmentation** then.\n",
        "\n",
        "We will continue without them."
      ]
    },
    {
      "cell_type": "code",
      "execution_count": 13,
      "metadata": {},
      "outputs": [],
      "source": [
        "df_null = df[-df['Description'].isnull()]"
      ]
    },
    {
      "cell_type": "markdown",
      "metadata": {},
      "source": [
        "Now we check how many null values we have left in the dataset"
      ]
    },
    {
      "cell_type": "code",
      "execution_count": 14,
      "metadata": {},
      "outputs": [
        {
          "data": {
            "text/plain": [
              "InvoiceNo      0\n",
              "StockCode      0\n",
              "Description    0\n",
              "Quantity       0\n",
              "InvoiceDate    0\n",
              "UnitPrice      0\n",
              "CustomerID     0\n",
              "Country        0\n",
              "dtype: int64"
            ]
          },
          "execution_count": 14,
          "metadata": {},
          "output_type": "execute_result"
        }
      ],
      "source": [
        "df_null.isnull().sum()"
      ]
    },
    {
      "cell_type": "code",
      "execution_count": 15,
      "metadata": {},
      "outputs": [
        {
          "name": "stderr",
          "output_type": "stream",
          "text": [
            "C:\\Users\\USER\\AppData\\Local\\Temp\\ipykernel_13736\\2079389659.py:1: FutureWarning: A value is trying to be set on a copy of a DataFrame or Series through chained assignment using an inplace method.\n",
            "The behavior will change in pandas 3.0. This inplace method will never work because the intermediate object on which we are setting values always behaves as a copy.\n",
            "\n",
            "For example, when doing 'df[col].method(value, inplace=True)', try using 'df.method({col: value}, inplace=True)' or df[col] = df[col].method(value) instead, to perform the operation inplace on the original object.\n",
            "\n",
            "\n",
            "  df_null['CustomerID'].fillna('Null', inplace = True)\n",
            "C:\\Users\\USER\\AppData\\Local\\Temp\\ipykernel_13736\\2079389659.py:1: SettingWithCopyWarning: \n",
            "A value is trying to be set on a copy of a slice from a DataFrame\n",
            "\n",
            "See the caveats in the documentation: https://pandas.pydata.org/pandas-docs/stable/user_guide/indexing.html#returning-a-view-versus-a-copy\n",
            "  df_null['CustomerID'].fillna('Null', inplace = True)\n"
          ]
        },
        {
          "data": {
            "text/plain": [
              "InvoiceNo      0\n",
              "StockCode      0\n",
              "Description    0\n",
              "Quantity       0\n",
              "InvoiceDate    0\n",
              "UnitPrice      0\n",
              "CustomerID     0\n",
              "Country        0\n",
              "dtype: int64"
            ]
          },
          "execution_count": 15,
          "metadata": {},
          "output_type": "execute_result"
        }
      ],
      "source": [
        "df_null['CustomerID'].fillna('Null', inplace = True)\n",
        "\n",
        "df_null.isnull().sum()"
      ]
    },
    {
      "cell_type": "markdown",
      "metadata": {},
      "source": [
        "## The finished work"
      ]
    },
    {
      "cell_type": "code",
      "execution_count": 16,
      "metadata": {},
      "outputs": [
        {
          "data": {
            "text/html": [
              "<div>\n",
              "<style scoped>\n",
              "    .dataframe tbody tr th:only-of-type {\n",
              "        vertical-align: middle;\n",
              "    }\n",
              "\n",
              "    .dataframe tbody tr th {\n",
              "        vertical-align: top;\n",
              "    }\n",
              "\n",
              "    .dataframe thead th {\n",
              "        text-align: right;\n",
              "    }\n",
              "</style>\n",
              "<table border=\"1\" class=\"dataframe\">\n",
              "  <thead>\n",
              "    <tr style=\"text-align: right;\">\n",
              "      <th></th>\n",
              "      <th>InvoiceNo</th>\n",
              "      <th>StockCode</th>\n",
              "      <th>Description</th>\n",
              "      <th>Quantity</th>\n",
              "      <th>InvoiceDate</th>\n",
              "      <th>UnitPrice</th>\n",
              "      <th>CustomerID</th>\n",
              "      <th>Country</th>\n",
              "    </tr>\n",
              "  </thead>\n",
              "  <tbody>\n",
              "    <tr>\n",
              "      <th>0</th>\n",
              "      <td>536365</td>\n",
              "      <td>85123A</td>\n",
              "      <td>WHITE HANGING HEART T-LIGHT HOLDER</td>\n",
              "      <td>6</td>\n",
              "      <td>12/1/2010 8:26</td>\n",
              "      <td>2.55</td>\n",
              "      <td>17850</td>\n",
              "      <td>United Kingdom</td>\n",
              "    </tr>\n",
              "    <tr>\n",
              "      <th>1</th>\n",
              "      <td>536365</td>\n",
              "      <td>71053</td>\n",
              "      <td>WHITE METAL LANTERN</td>\n",
              "      <td>6</td>\n",
              "      <td>12/1/2010 8:26</td>\n",
              "      <td>3.39</td>\n",
              "      <td>17850</td>\n",
              "      <td>United Kingdom</td>\n",
              "    </tr>\n",
              "    <tr>\n",
              "      <th>2</th>\n",
              "      <td>536365</td>\n",
              "      <td>84406B</td>\n",
              "      <td>CREAM CUPID HEARTS COAT HANGER</td>\n",
              "      <td>8</td>\n",
              "      <td>12/1/2010 8:26</td>\n",
              "      <td>2.75</td>\n",
              "      <td>17850</td>\n",
              "      <td>United Kingdom</td>\n",
              "    </tr>\n",
              "    <tr>\n",
              "      <th>3</th>\n",
              "      <td>536365</td>\n",
              "      <td>84029G</td>\n",
              "      <td>KNITTED UNION FLAG HOT WATER BOTTLE</td>\n",
              "      <td>6</td>\n",
              "      <td>12/1/2010 8:26</td>\n",
              "      <td>3.39</td>\n",
              "      <td>17850</td>\n",
              "      <td>United Kingdom</td>\n",
              "    </tr>\n",
              "    <tr>\n",
              "      <th>4</th>\n",
              "      <td>536365</td>\n",
              "      <td>84029E</td>\n",
              "      <td>RED WOOLLY HOTTIE WHITE HEART.</td>\n",
              "      <td>6</td>\n",
              "      <td>12/1/2010 8:26</td>\n",
              "      <td>3.39</td>\n",
              "      <td>17850</td>\n",
              "      <td>United Kingdom</td>\n",
              "    </tr>\n",
              "  </tbody>\n",
              "</table>\n",
              "</div>"
            ],
            "text/plain": [
              "  InvoiceNo StockCode                          Description  Quantity  \\\n",
              "0    536365    85123A   WHITE HANGING HEART T-LIGHT HOLDER         6   \n",
              "1    536365     71053                  WHITE METAL LANTERN         6   \n",
              "2    536365    84406B       CREAM CUPID HEARTS COAT HANGER         8   \n",
              "3    536365    84029G  KNITTED UNION FLAG HOT WATER BOTTLE         6   \n",
              "4    536365    84029E       RED WOOLLY HOTTIE WHITE HEART.         6   \n",
              "\n",
              "      InvoiceDate  UnitPrice CustomerID         Country  \n",
              "0  12/1/2010 8:26       2.55      17850  United Kingdom  \n",
              "1  12/1/2010 8:26       3.39      17850  United Kingdom  \n",
              "2  12/1/2010 8:26       2.75      17850  United Kingdom  \n",
              "3  12/1/2010 8:26       3.39      17850  United Kingdom  \n",
              "4  12/1/2010 8:26       3.39      17850  United Kingdom  "
            ]
          },
          "execution_count": 16,
          "metadata": {},
          "output_type": "execute_result"
        }
      ],
      "source": [
        "df_cleaned = df_null\n",
        "\n",
        "df_cleaned.head(10)"
      ]
    },
    {
      "cell_type": "markdown",
      "metadata": {},
      "source": [
        "# Exploratory Data Analysis"
      ]
    },
    {
      "cell_type": "markdown",
      "metadata": {},
      "source": [
        "We can look through the data to get necessary informartion for segmentation. Based on the columns in our df_cleaned, we can explore:\n",
        "\n",
        "**Location**:\n",
        "\n",
        "- Customer Locations:\n",
        "- Population Density:\n",
        "\n",
        "**Behavior**:\n",
        "\n",
        "- Common Purchase Categories/Products\n",
        "- Average Order Value and Frequency\n",
        "- Popular Channels for Engagement:\n"
      ]
    },
    {
      "cell_type": "markdown",
      "metadata": {},
      "source": [
        "## Location"
      ]
    },
    {
      "cell_type": "code",
      "execution_count": null,
      "metadata": {},
      "outputs": [],
      "source": []
    },
    {
      "cell_type": "markdown",
      "metadata": {},
      "source": [
        "## Behavior"
      ]
    },
    {
      "cell_type": "markdown",
      "metadata": {},
      "source": [
        "### Common Purchase Categories/Products"
      ]
    },
    {
      "cell_type": "markdown",
      "metadata": {},
      "source": [
        "1. Analyzing Purchase Categories:\n",
        "\n",
        "\n",
        "We explore potential purchase categories and their frequency by iterating through the 'Description' column. Assuming descriptions might contain category clues, we extract keywords based on word length and alphabetical characters. This is a starting point, and we might need to adjust it for our specific data. We then use Counter to count the occurrences of each extracted category, giving us insights into the most frequently purchased ones."
      ]
    },
    {
      "cell_type": "code",
      "execution_count": 1,
      "metadata": {},
      "outputs": [],
      "source": [
        "# Considering that 'Description' column contains category clues\n",
        "from collections import Counter  # For counting category occurrences (optional)\n",
        "\n",
        "# Explore common purchase categories (using Description for potential clues)\n",
        "def analyze_categories(df):\n",
        "  \"\"\"\n",
        "  Analyzes potential purchase categories and identifies frequent items.\n",
        "\n",
        "  Args:\n",
        "      df (pandas.DataFrame): The cleaned DataFrame containing purchase data.\n",
        "\n",
        "  Returns:\n",
        "      None (prints analysis results to console)\n",
        "  \"\"\"\n",
        "\n",
        "  # Extract potential category keywords from descriptions (optional)\n",
        "  # This approach might require adjustments based on your data\n",
        "  categories = []\n",
        "  for desc in df['Description']:\n",
        "    words = desc.split()  # Split description into words\n",
        "    potential_category = [word for word in words if len(word) > 3 and word.isalpha()]  # Filter words with length > 3 and only letters\n",
        "    if potential_category:\n",
        "      categories.append(potential_category[0])  # Assuming the first relevant word is the category\n",
        "\n",
        "  # Count category occurrences (alternative: using groupby)\n",
        "  if categories:\n",
        "    category_counts = Counter(categories)\n",
        "    print(\"\\n**Potential Purchase Categories (from Description):\")\n",
        "    for category, count in category_counts.most_common(10):  # Print top 10 most frequent\n",
        "      print(f\"- {category}: {count} occurrences\")\n",
        "  else:\n",
        "    print(\"\\n**Unable to extract clear categories from descriptions. Consider alternative methods.**\")"
      ]
    },
    {
      "cell_type": "markdown",
      "metadata": {},
      "source": [
        "2. Understanding Customer Behavior:\n",
        "\n",
        "\n",
        "To delve into customer behavior, we group the data by the 'CustomerID'. This allows us to analyze spending patterns for each customer. We calculate their total spending by summing the 'UnitPrice' within each customer group. This helps us identify our top spending customers, the ones who contribute the most to overall sales. Additionally, we calculate the most frequent items purchased overall using the 'Description' column. This provides a general picture of the most popular products across all customers. We can further analyze frequent purchases for each individual by grouping by 'CustomerID'."
      ]
    },
    {
      "cell_type": "code",
      "execution_count": 2,
      "metadata": {},
      "outputs": [],
      "source": [
        "# Analyze customer behavior (total spending, frequent items)\n",
        "def analyze_customer_behavior(df):\n",
        "  \"\"\"\n",
        "  Analyzes customer behavior by grouping data and calculating relevant metrics.\n",
        "\n",
        "  Args:\n",
        "      df (pandas.DataFrame): The cleaned DataFrame containing purchase data.\n",
        "\n",
        "  Returns:\n",
        "      None (prints analysis results to console)\n",
        "  \"\"\"\n",
        "\n",
        "  # Group data by customer ID\n",
        "  customer_groups = df.groupby('CustomerID')\n",
        "\n",
        "  # Calculate total spending per customer\n",
        "  total_spend_per_customer = customer_groups['UnitPrice'].sum()\n",
        "\n",
        "  # Identify top 5 spending customers\n",
        "  top_spenders = total_spend_per_customer.sort_values(ascending=False).head(5)\n",
        "\n",
        "  # Calculate most frequent items purchased by all customers\n",
        "  # (consider grouping by customer for individual customer analysis)\n",
        "  all_item_counts = df['Description'].value_counts().head(10)  # Top 10 most frequent items\n",
        "\n",
        "  # Print analysis results\n",
        "  print(\"\\n**Analysis of Customer Behavior:**\")\n",
        "  print(f\"\\n- Top 5 Spending Customers:\")\n",
        "  print(top_spenders)\n",
        "\n",
        "  print(f\"\\n- Top 10 Most Frequently Purchased Items:\")\n",
        "  print(all_item_counts)"
      ]
    },
    {
      "cell_type": "code",
      "execution_count": 3,
      "metadata": {},
      "outputs": [
        {
          "ename": "NameError",
          "evalue": "name 'df_cleaned' is not defined",
          "output_type": "error",
          "traceback": [
            "\u001b[1;31m---------------------------------------------------------------------------\u001b[0m",
            "\u001b[1;31mNameError\u001b[0m                                 Traceback (most recent call last)",
            "Cell \u001b[1;32mIn[3], line 2\u001b[0m\n\u001b[0;32m      1\u001b[0m \u001b[38;5;66;03m# Analyzing the cleaned data\u001b[39;00m\n\u001b[1;32m----> 2\u001b[0m analyze_categories(\u001b[43mdf_cleaned\u001b[49m\u001b[38;5;241m.\u001b[39mcopy())  \u001b[38;5;66;03m# Avoid modifying original data\u001b[39;00m\n\u001b[0;32m      3\u001b[0m analyze_customer_behavior(df_cleaned\u001b[38;5;241m.\u001b[39mcopy())\n",
            "\u001b[1;31mNameError\u001b[0m: name 'df_cleaned' is not defined"
          ]
        }
      ],
      "source": [
        "# Analyzing the cleaned data\n",
        "analyze_categories(df_cleaned.copy())  # Avoid modifying original data\n",
        "analyze_customer_behavior(df_cleaned.copy())"
      ]
    },
    {
      "cell_type": "markdown",
      "metadata": {},
      "source": [
        "# Feature Engineering"
      ]
    },
    {
      "cell_type": "markdown",
      "metadata": {},
      "source": []
    },
    {
      "cell_type": "markdown",
      "metadata": {},
      "source": [
        "# Model Development"
      ]
    },
    {
      "cell_type": "markdown",
      "metadata": {},
      "source": []
    },
    {
      "cell_type": "markdown",
      "metadata": {},
      "source": [
        "# Model Validation and Refinement"
      ]
    },
    {
      "cell_type": "markdown",
      "metadata": {},
      "source": []
    },
    {
      "cell_type": "markdown",
      "metadata": {},
      "source": [
        "# Conclusion"
      ]
    },
    {
      "cell_type": "markdown",
      "metadata": {},
      "source": []
    }
  ],
  "metadata": {
    "colab": {
      "authorship_tag": "ABX9TyM4grBNzecLCTAFO2CFGdoW",
      "include_colab_link": true,
      "provenance": [],
      "toc_visible": true
    },
    "kernelspec": {
      "display_name": "Python 3",
      "name": "python3"
    },
    "language_info": {
      "codemirror_mode": {
        "name": "ipython",
        "version": 3
      },
      "file_extension": ".py",
      "mimetype": "text/x-python",
      "name": "python",
      "nbconvert_exporter": "python",
      "pygments_lexer": "ipython3",
      "version": "3.12.1"
    }
  },
  "nbformat": 4,
  "nbformat_minor": 0
}
